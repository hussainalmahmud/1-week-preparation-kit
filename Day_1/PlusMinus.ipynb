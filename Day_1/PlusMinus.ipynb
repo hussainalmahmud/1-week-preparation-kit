{
 "cells": [
  {
   "cell_type": "markdown",
   "metadata": {},
   "source": [
    "<a href=\"https://colab.research.google.com/github/hussainsan/1-week-preparation-kit/blob/main/Day_1/PlusMinus.ipynb\">\n",
    "  <img src=\"https://colab.research.google.com/assets/colab-badge.svg\" alt=\"Open In Colab\"/>\n",
    "</a>"
   ]
  },
  {
   "cell_type": "code",
   "execution_count": 1,
   "metadata": {},
   "outputs": [
    {
     "name": "stdout",
     "output_type": "stream",
     "text": [
      "10 14\n"
     ]
    }
   ],
   "source": [
    "#!/bin/python3\n",
    "\n",
    "import math\n",
    "import os\n",
    "import random\n",
    "import re\n",
    "import sys\n",
    "\n",
    "\n",
    "#\n",
    "# Complete the 'miniMaxSum' function below.\n",
    "#\n",
    "# The function accepts INTEGER_ARRAY arr as parameter.\n",
    "#\n",
    "def miniMaxSum(arr):\n",
    "    # Write your code here\n",
    "    min_sum = float(\"inf\")\n",
    "    max_sum = float(\"-inf\")\n",
    "\n",
    "    total_sum = sum(arr)\n",
    "\n",
    "    for i in arr:\n",
    "        curr_sum = total_sum - i\n",
    "\n",
    "        if curr_sum < min_sum:\n",
    "            min_sum = curr_sum\n",
    "\n",
    "        if curr_sum > max_sum:\n",
    "            max_sum = curr_sum\n",
    "\n",
    "    print(min_sum, max_sum)\n",
    "\n",
    "\n",
    "if __name__ == \"__main__\":\n",
    "    arr = list(map(int, input().rstrip().split()))\n",
    "\n",
    "    miniMaxSum(arr)"
   ]
  },
  {
   "cell_type": "markdown",
   "metadata": {},
   "source": [
    " # Time and Space Complexity\n",
    " \n",
    " - #### Time Comlexity O()\n",
    " - #### Space complexity O()"
   ]
  }
 ],
 "metadata": {
  "kernelspec": {
   "display_name": "tf2",
   "language": "python",
   "name": "python3"
  },
  "language_info": {
   "codemirror_mode": {
    "name": "ipython",
    "version": 3
   },
   "file_extension": ".py",
   "mimetype": "text/x-python",
   "name": "python",
   "nbconvert_exporter": "python",
   "pygments_lexer": "ipython3",
   "version": "3.9.13"
  }
 },
 "nbformat": 4,
 "nbformat_minor": 2
}
