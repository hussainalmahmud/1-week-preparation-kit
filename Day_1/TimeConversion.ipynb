{
 "cells": [
  {
   "cell_type": "markdown",
   "metadata": {},
   "source": [
    "<a href=\"https://colab.research.google.com/github/hussainsan/1-week-preparation-kit/blob/main/Day_1/TimeConversion.ipynb\">\n",
    "  <img src=\"https://colab.research.google.com/assets/colab-badge.svg\" alt=\"Open In Colab\"/>\n",
    "</a>"
   ]
  },
  {
   "cell_type": "code",
   "execution_count": 2,
   "metadata": {},
   "outputs": [
    {
     "name": "stdout",
     "output_type": "stream",
     "text": [
      "19:05:45\n"
     ]
    }
   ],
   "source": [
    "#!/bin/python3\n",
    "\n",
    "import math\n",
    "import os\n",
    "import random\n",
    "import re\n",
    "import sys\n",
    "\n",
    "#\n",
    "# Complete the 'timeConversion' function below.\n",
    "#\n",
    "# The function is expected to return a STRING.\n",
    "# The function accepts STRING s as parameter.\n",
    "#\n",
    "\n",
    "\n",
    "def timeConversion(s):\n",
    "    # Write your code here\n",
    "    hours = int(s[:2])\n",
    "    mins = s[3:5]\n",
    "    secs = s[6:8]\n",
    "    am_pm = s[-2:]\n",
    "    if am_pm == \"AM\" and hours == 12:\n",
    "        new_hours = \"00\"\n",
    "    elif am_pm == \"PM\" and hours < 12:\n",
    "        new_hours = str(hours + 12)\n",
    "    else:\n",
    "        if hours > 9:\n",
    "            new_hours = str(hours)\n",
    "        else:\n",
    "            new_hours = \"0\" + str(hours)\n",
    "\n",
    "    return new_hours + \":\" + mins + \":\" + secs\n",
    "\n",
    "\n",
    "if __name__ == \"__main__\":\n",
    "    # fptr = open(os.environ['OUTPUT_PATH'], 'w')\n",
    "\n",
    "    s = input()\n",
    "\n",
    "    result = timeConversion(s)\n",
    "    print(result)\n",
    "    # fptr.write(result + '\\n')\n",
    "\n",
    "    # fptr.close()"
   ]
  },
  {
   "cell_type": "markdown",
   "metadata": {},
   "source": [
    " # Time and Space Complexity\n",
    " \n",
    " - #### Time Comlexity O(1)\n",
    " - #### Space complexity O(1)"
   ]
  }
 ],
 "metadata": {
  "kernelspec": {
   "display_name": "tf2",
   "language": "python",
   "name": "python3"
  },
  "language_info": {
   "codemirror_mode": {
    "name": "ipython",
    "version": 3
   },
   "file_extension": ".py",
   "mimetype": "text/x-python",
   "name": "python",
   "nbconvert_exporter": "python",
   "pygments_lexer": "ipython3",
   "version": "3.9.13"
  }
 },
 "nbformat": 4,
 "nbformat_minor": 2
}
