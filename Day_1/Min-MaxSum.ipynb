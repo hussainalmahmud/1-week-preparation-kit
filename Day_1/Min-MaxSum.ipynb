{
 "cells": [
  {
   "cell_type": "markdown",
   "metadata": {},
   "source": [
    "<a href=\"https://colab.research.google.com/github.com/hussainsan/1-week-preparation-kit/blob/main/Day_1/Min-MaxSum.ipynb\">\n",
    "  <img src=\"https://colab.research.google.com/assets/colab-badge.svg\" alt=\"Open In Colab\"/>\n",
    "</a>"
   ]
  },
  {
   "cell_type": "code",
   "execution_count": 3,
   "metadata": {},
   "outputs": [
    {
     "name": "stdout",
     "output_type": "stream",
     "text": [
      "0.500000\n",
      "0.333333\n",
      "0.166667\n"
     ]
    }
   ],
   "source": [
    "#!/bin/python3\n",
    "\n",
    "import math\n",
    "import os\n",
    "import random\n",
    "import re\n",
    "import sys\n",
    "\n",
    "#\n",
    "# Complete the 'plusMinus' function below.\n",
    "#\n",
    "# The function accepts INTEGER_ARRAY arr as parameter.\n",
    "#\n",
    "\n",
    "\n",
    "def plusMinus(arr):\n",
    "    # Write your code here\n",
    "    neg = 0\n",
    "    pos = 0\n",
    "    zero = 0\n",
    "    \n",
    "    for i in arr:\n",
    "        if i < 0:\n",
    "            neg += 1\n",
    "        if i > 0:\n",
    "            pos += 1\n",
    "        if i == 0:\n",
    "            zero += 1\n",
    "    \n",
    "    poss = pos / len(arr)\n",
    "    negs = neg / len(arr)\n",
    "    zeros = zero / len(arr)\n",
    "    \n",
    "    print(f\"{poss:.6f}\")\n",
    "    print(f\"{negs:.6f}\")\n",
    "    print(f\"{zeros:.6f}\")\n",
    "\n",
    "\n",
    "if __name__ == \"__main__\":\n",
    "    n = int(input().strip())\n",
    "\n",
    "    arr = list(map(int, input().rstrip().split()))\n",
    "\n",
    "    plusMinus(arr)"
   ]
  },
  {
   "cell_type": "markdown",
   "metadata": {},
   "source": [
    " # Time and Space Complexity\n",
    " \n",
    " - #### Time Comlexity O(n)\n",
    " - #### Space complexity O(1)"
   ]
  }
 ],
 "metadata": {
  "kernelspec": {
   "display_name": "tf2",
   "language": "python",
   "name": "python3"
  },
  "language_info": {
   "codemirror_mode": {
    "name": "ipython",
    "version": 3
   },
   "file_extension": ".py",
   "mimetype": "text/x-python",
   "name": "python",
   "nbconvert_exporter": "python",
   "pygments_lexer": "ipython3",
   "version": "3.9.13"
  }
 },
 "nbformat": 4,
 "nbformat_minor": 2
}
