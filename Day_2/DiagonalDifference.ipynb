{
 "cells": [
  {
   "cell_type": "markdown",
   "metadata": {},
   "source": [
    "#### Given a square matrix, calculate the absolute difference between the sums of its diagonals."
   ]
  },
  {
   "cell_type": "code",
   "execution_count": 4,
   "metadata": {},
   "outputs": [
    {
     "name": "stdout",
     "output_type": "stream",
     "text": [
      "15\n"
     ]
    }
   ],
   "source": [
    "#!/bin/python3\n",
    "\n",
    "import math\n",
    "import os\n",
    "import random\n",
    "import re\n",
    "import sys\n",
    "\n",
    "#\n",
    "# Complete the 'diagonalDifference' function below.\n",
    "#\n",
    "# The function is expected to return an INTEGER.\n",
    "# The function accepts 2D_INTEGER_ARRAY arr as parameter.\n",
    "#\n",
    "\n",
    "def diagonalDifference(arr):\n",
    "    # Write your code here\n",
    "    n = len(arr) \n",
    "    m = len(arr[0])\n",
    "    left = 0\n",
    "    right = 0\n",
    "    for i in range(n):\n",
    "        left += arr[i][i]\n",
    "        right += arr[i][n-i-1]\n",
    "    absolute_diff = abs(left - right)\n",
    "    \n",
    "    return absolute_diff\n",
    "\n",
    "\n",
    "if __name__ == '__main__':\n",
    "    # fptr = open(os.environ['OUTPUT_PATH'], 'w')\n",
    "\n",
    "    # n = int(input().strip())\n",
    "    # arr = []\n",
    "    \n",
    "    n = 3\n",
    "    arr = [[11, 2, 4], [4, 5, 6], [10, 8, -12]]\n",
    "\n",
    "    # for _ in range(n):\n",
    "    #     arr.append(list(map(int, input().rstrip().split())))\n",
    "\n",
    "    result = diagonalDifference(arr)\n",
    "\n",
    "    print(result)\n",
    "\n",
    "    # fptr.write(str(result) + '\\n')\n",
    "\n",
    "    # fptr.close()\n"
   ]
  },
  {
   "cell_type": "markdown",
   "metadata": {},
   "source": [
    " # Time and Space Complexity\n",
    " \n",
    " - #### Time Comlexity O(n)\n",
    " - #### Space complexity O(n)"
   ]
  },
  {
   "cell_type": "markdown",
   "metadata": {},
   "source": [
    "#### Another memory-optimized solution:"
   ]
  },
  {
   "cell_type": "code",
   "execution_count": 3,
   "metadata": {},
   "outputs": [
    {
     "name": "stdout",
     "output_type": "stream",
     "text": [
      "15\n"
     ]
    }
   ],
   "source": [
    "#!/bin/python3\n",
    "\n",
    "import math\n",
    "import os\n",
    "import random\n",
    "import re\n",
    "import sys\n",
    "\n",
    "#\n",
    "# Complete the 'diagonalDifference' function below.\n",
    "#\n",
    "# The function is expected to return an INTEGER.\n",
    "# The function accepts 2D_INTEGER_ARRAY arr as parameter.\n",
    "#\n",
    "\n",
    "def diagonalDifference(arr):\n",
    "    # Write your code here\n",
    "    n, m = len(arr), len(arr[0])\n",
    "    abs_diff = 0\n",
    "    for i in range(n):\n",
    "        abs_diff += arr[i][i] - arr[i][m-i-1]\n",
    "    return abs(abs_diff)\n",
    "    \n",
    "if __name__ == '__main__':\n",
    "    # fptr = open(os.environ['OUTPUT_PATH'], 'w')\n",
    "\n",
    "    # n = int(input().strip())\n",
    "    # arr = []\n",
    "    \n",
    "    n = 3\n",
    "    arr = [[11, 2, 4], [4, 5, 6], [10, 8, -12]]\n",
    "\n",
    "    # for _ in range(n):\n",
    "    #     arr.append(list(map(int, input().rstrip().split())))\n",
    "\n",
    "    result = diagonalDifference(arr)\n",
    "\n",
    "    print(result)\n",
    "\n",
    "    # fptr.write(str(result) + '\\n')\n",
    "\n",
    "    # fptr.close()\n"
   ]
  },
  {
   "cell_type": "markdown",
   "metadata": {},
   "source": [
    " # Time and Space Complexity\n",
    " \n",
    " - #### Time Comlexity O(n)\n",
    " - #### Space complexity O(1)"
   ]
  },
  {
   "cell_type": "code",
   "execution_count": null,
   "metadata": {},
   "outputs": [],
   "source": []
  }
 ],
 "metadata": {
  "kernelspec": {
   "display_name": "tf2",
   "language": "python",
   "name": "python3"
  },
  "language_info": {
   "codemirror_mode": {
    "name": "ipython",
    "version": 3
   },
   "file_extension": ".py",
   "mimetype": "text/x-python",
   "name": "python",
   "nbconvert_exporter": "python",
   "pygments_lexer": "ipython3",
   "version": "3.9.13"
  }
 },
 "nbformat": 4,
 "nbformat_minor": 2
}
