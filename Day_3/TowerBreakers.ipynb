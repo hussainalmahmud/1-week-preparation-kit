{
 "cells": [
  {
   "cell_type": "markdown",
   "metadata": {},
   "source": [
    "<a href=\"https://colab.research.google.com/github/hussainsan/1-week-preparation-kit/blob/main/Day_3/TowerBreakers.ipynb\">\n",
    "  <img src=\"https://colab.research.google.com/assets/colab-badge.svg\" alt=\"Open In Colab\"/>\n",
    "</a>\n",
    "\n",
    "Two players are playing a game of Tower Breakers! Player  always moves first, and both players always play optimally.The rules of the game are as follows:\n",
    "\n",
    "Initially there are  towers.\n",
    "Each tower is of height .\n",
    "The players move in alternating turns.\n",
    "In each turn, a player can choose a tower of height  and reduce its height to , where  and  evenly divides .\n",
    "If the current player is unable to make a move, they lose the game.\n",
    "Given the values of  and , determine which player will win. If the first player wins, return . Otherwise, return ."
   ]
  },
  {
   "cell_type": "code",
   "execution_count": 4,
   "metadata": {},
   "outputs": [
    {
     "name": "stdout",
     "output_type": "stream",
     "text": [
      "Player 1 wins!\n"
     ]
    }
   ],
   "source": [
    "#!/bin/python3\n",
    "\n",
    "import math\n",
    "import os\n",
    "import random\n",
    "import re\n",
    "import sys\n",
    "\n",
    "#\n",
    "# Complete the 'towerBreakers' function below.\n",
    "#\n",
    "# The function is expected to return an INTEGER.\n",
    "# The function accepts following parameters:\n",
    "#  1. INTEGER n (towers)\n",
    "#  2. INTEGER m (each tower highet)\n",
    "#\n",
    "\n",
    "def towerBreakers(n, m):\n",
    "    # Write your code here\n",
    "    \n",
    "    if m == 1: # if all height at beg. are 1 \n",
    "        return 2 # p2 wins\n",
    "    elif n % 2 == 0: # if no. of towers are even, p2 always wins\n",
    "        return 2\n",
    "    elif n % 2 != 0 and m > 1:\n",
    "        return 1\n",
    "    elif n % 2 != 0 and m == 1:\n",
    "        return 2\n",
    "    \n",
    "    \n",
    "    \n",
    "if __name__ == '__main__':\n",
    "    # fptr = open(os.environ['OUTPUT_PATH'], 'w')\n",
    "\n",
    "    # input example:\n",
    "    # 2  number of test cases\n",
    "    # 2 2 No. of towers, height of each tower\n",
    "    # 1 4 No. of towers, height of each tower\n",
    "    t = int(input().strip())\n",
    "    \n",
    "\n",
    "    for t_itr in range(t):\n",
    "        first_multiple_input = input().rstrip().split()\n",
    "\n",
    "        n = int(first_multiple_input[0])\n",
    "\n",
    "        m = int(first_multiple_input[1])\n",
    "\n",
    "        result = towerBreakers(n, m)\n",
    "        \n",
    "        print(f\"Player {result} wins!\")\n",
    "        # fptr.write(str(result) + '\\n')\n",
    "\n",
    "    # fptr.close()\n"
   ]
  },
  {
   "cell_type": "markdown",
   "metadata": {},
   "source": [
    "- If all towers are of height 1 at the beginning, Player 1 cannot make any move and therefore loses. Hence, Player 2 wins.\n",
    "\n",
    "- If the number of towers (n) is even, no matter how the towers are reduced in height, Player 2 can always mirror Player 1's move on another tower, effectively leaving an even number of moves. Therefore, Player 2 wins.\n",
    "\n",
    "- If the number of towers (n) is odd and the height of the towers is greater than 1, Player 1 can always make the first move to ensure he has the advantage and ultimately wins.\n",
    "\n",
    "- If the number of towers (n) is odd and all towers have a height of 1, then Player 1 has no moves left and loses, meaning Player 2 wins."
   ]
  },
  {
   "cell_type": "markdown",
   "metadata": {},
   "source": [
    " # Time and Space Complexity\n",
    " - #### Time Comlexity O(t) where t represnts the number of test cases \n",
    " - #### Space complexity O(1)"
   ]
  }
 ],
 "metadata": {
  "kernelspec": {
   "display_name": "tf2",
   "language": "python",
   "name": "python3"
  },
  "language_info": {
   "codemirror_mode": {
    "name": "ipython",
    "version": 3
   },
   "file_extension": ".py",
   "mimetype": "text/x-python",
   "name": "python",
   "nbconvert_exporter": "python",
   "pygments_lexer": "ipython3",
   "version": "3.9.13"
  }
 },
 "nbformat": 4,
 "nbformat_minor": 2
}
