{
 "cells": [
  {
   "cell_type": "markdown",
   "metadata": {},
   "source": [
    "<a href=\"https://colab.research.google.com/github/hussainsan/1-week-preparation-kit/blob/main/Day_3/CaesarCiphar.ipynb\">\n",
    "  <img src=\"https://colab.research.google.com/assets/colab-badge.svg\" alt=\"Open In Colab\"/>\n",
    "</a>\n",
    "\n",
    "#### Julius Caesar protected his confidential information by encrypting it using a cipher. Caesar's cipher shifts each letter by a number of letters. If the shift takes you past the end of the alphabet, just rotate back to the front of the alphabet. In the case of a rotation by **3**,` w, x, y and z` would map to `z, a, b and c`."
   ]
  },
  {
   "cell_type": "code",
   "execution_count": 3,
   "metadata": {},
   "outputs": [
    {
     "name": "stdout",
     "output_type": "stream",
     "text": [
      "plggoh-Rxwc\n"
     ]
    }
   ],
   "source": [
    "#!/bin/python3\n",
    "\n",
    "import math\n",
    "import os\n",
    "import random\n",
    "import re\n",
    "import sys\n",
    "\n",
    "#\n",
    "# Complete the 'caesarCipher' function below.\n",
    "#\n",
    "# The function is expected to return a STRING.\n",
    "# The function accepts following parameters:\n",
    "#  1. STRING s\n",
    "#  2. INTEGER k\n",
    "#\n",
    "\n",
    "def caesarCipher(s, k):\n",
    "    # Write your code here\n",
    "    ciphar = []\n",
    "    for lett in s:\n",
    "        if ord(lett) >= ord('A') and ord(lett) <= ord('Z'):\n",
    "            new_lett = (ord(lett) - ord('A') + k) % 26 + ord('A')\n",
    "            ciphar.append(chr(new_lett))\n",
    "        elif ord(lett) >= ord('a') and ord(lett) <= ord('z'):\n",
    "            new_lett = (ord(lett) - ord('a') + k) % 26 + ord('a')\n",
    "            ciphar.append(chr(new_lett))\n",
    "        else:\n",
    "            ciphar.append(lett)\n",
    "    ciphar = ''.join(ciphar)\n",
    "    return ciphar\n",
    "    \n",
    "    \n",
    "if __name__ == '__main__':\n",
    "    # fptr = open(os.environ['OUTPUT_PATH'], 'w')\n",
    "\n",
    "    # input example\n",
    "    # 11  --> n of letters\n",
    "    # middle-Outz\n",
    "    # 2 --> k\n",
    "    n = int(input().strip())\n",
    "\n",
    "    s = input()\n",
    "\n",
    "    k = int(input().strip())\n",
    "\n",
    "    result = caesarCipher(s, k)\n",
    "\n",
    "    print(result)\n",
    "    # fptr.write(result + '\\n')\n",
    "\n",
    "    # fptr.close()\n"
   ]
  },
  {
   "cell_type": "markdown",
   "metadata": {},
   "source": [
    "#### Example of shifting `Z` by `k= 3`:\n",
    "- Original Letter: 'Z'\n",
    "- Mapping to Numerical Value: 'Z' - 'A' = 25\n",
    "- Adding the Shift Value: 25 + 3 = 28\n",
    "- Wrapping Around with Modulo: 28 % 26 = 2\n",
    "- Mapping Back to Uppercase Letter: 2 + 'A' = 'C'"
   ]
  },
  {
   "cell_type": "markdown",
   "metadata": {},
   "source": [
    " # Time and Space Complexity\n",
    " - #### The for loop takes O(n), and join func take O(n). Total O(2n) but we drop the constant.\n",
    " - #### Time Comlexity `O(n)` \n",
    " - #### The list ciphar can grow up to the size of the input string s. This contributes to:\n",
    " - #### Space complexity `O(n)`"
   ]
  },
  {
   "cell_type": "markdown",
   "metadata": {},
   "source": []
  }
 ],
 "metadata": {
  "kernelspec": {
   "display_name": "tf2",
   "language": "python",
   "name": "python3"
  },
  "language_info": {
   "codemirror_mode": {
    "name": "ipython",
    "version": 3
   },
   "file_extension": ".py",
   "mimetype": "text/x-python",
   "name": "python",
   "nbconvert_exporter": "python",
   "pygments_lexer": "ipython3",
   "version": "3.9.13"
  }
 },
 "nbformat": 4,
 "nbformat_minor": 2
}
