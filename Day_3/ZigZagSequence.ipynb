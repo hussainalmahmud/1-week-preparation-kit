{
 "cells": [
  {
   "cell_type": "markdown",
   "metadata": {},
   "source": [
    "<a href=\"https://colab.research.google.com/github/hussainsan/1-week-preparation-kit/blob/main/Day_3/ZigZagSequence.ipynb\">\n",
    "  <img src=\"https://colab.research.google.com/assets/colab-badge.svg\" alt=\"Open In Colab\"/>\n",
    "</a>\n",
    "\n",
    "#### Given an array of  distinct integers, transform the array into a zig zag sequence by permuting the array elements. A sequence will be called a zig zag sequence if the first  elements in the sequence are in increasing order and the last  elements are in decreasing order, where `k = (n+1)/2` . You need to find the lexicographically smallest zig zag sequence of the given array."
   ]
  },
  {
   "cell_type": "code",
   "execution_count": 2,
   "metadata": {},
   "outputs": [
    {
     "name": "stdout",
     "output_type": "stream",
     "text": [
      "1 2 3 7 6 5 4\n"
     ]
    }
   ],
   "source": [
    "def findZigZagSequence(a, n):\n",
    "    a.sort()\n",
    "    mid = int(n /2) # change this line (orig. int((n + 1)/2))\n",
    "    a[mid], a[n-1] = a[n-1], a[mid]\n",
    "\n",
    "    st = mid + 1\n",
    "    ed = n - 2 # change this line (orig. n - 1)\n",
    "    while(st <= ed):\n",
    "        a[st], a[ed] = a[ed], a[st]\n",
    "        st = st + 1\n",
    "        ed = ed - 1 # change this line (orig. ed + 1)\n",
    "\n",
    "    for i in range (n):\n",
    "        if i == n-1:\n",
    "            print(a[i])\n",
    "        else:\n",
    "            print(a[i], end = ' ')\n",
    "    return\n",
    "\n",
    "test_cases = int(input())\n",
    "for cs in range (test_cases):\n",
    "    #Input (stdin) example\n",
    "    # 1\n",
    "    # 7\n",
    "    # 1 2 3  4 5 6 7\n",
    "    n = int(input())\n",
    "    a = list(map(int, input().split()))\n",
    "    findZigZagSequence(a, n)\n",
    "\n",
    "\n",
    "\n"
   ]
  },
  {
   "cell_type": "markdown",
   "metadata": {},
   "source": [
    " # Time and Space Complexity\n",
    " - #### sorting takes O(nlogn). \n",
    " - #### While loop takes O(n). For loop O(n). Both take O(2n) which simplifies to O(n)\n",
    " - #### Now, between O(nlogn) and O(n), O(nlogn) grows faster as n increases. Therefore, O(nlogn) is the \"dominant\" term.\n",
    " - #### Time Comlexity O(nlogn)\n",
    " - #### Space complexity O(1)"
   ]
  }
 ],
 "metadata": {
  "kernelspec": {
   "display_name": "tf2",
   "language": "python",
   "name": "python3"
  },
  "language_info": {
   "codemirror_mode": {
    "name": "ipython",
    "version": 3
   },
   "file_extension": ".py",
   "mimetype": "text/x-python",
   "name": "python",
   "nbconvert_exporter": "python",
   "pygments_lexer": "ipython3",
   "version": "3.9.13"
  }
 },
 "nbformat": 4,
 "nbformat_minor": 2
}
