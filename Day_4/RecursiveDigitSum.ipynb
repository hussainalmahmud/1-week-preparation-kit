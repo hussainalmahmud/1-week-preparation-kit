{
 "cells": [
  {
   "cell_type": "markdown",
   "metadata": {},
   "source": [
    "<a href=\"https://colab.research.google.com/github/hussainsan/1-week-preparation-kit/blob/main/Day_4/RecursiveDigitSum.ipynb\">\n",
    "  <img src=\"https://colab.research.google.com/assets/colab-badge.svg\" alt=\"Open In Colab\"/>\n",
    "</a>\n",
    "\n",
    "Given an integer, we need to find the super digit of the integer."
   ]
  },
  {
   "cell_type": "code",
   "execution_count": 10,
   "metadata": {},
   "outputs": [
    {
     "name": "stdout",
     "output_type": "stream",
     "text": [
      "3\n"
     ]
    }
   ],
   "source": [
    "#!/bin/python3\n",
    "\n",
    "import math\n",
    "import os\n",
    "import random\n",
    "import re\n",
    "import sys\n",
    "\n",
    "#\n",
    "# Complete the 'superDigit' function below.\n",
    "#\n",
    "# The function is expected to return an INTEGER.\n",
    "# The function accepts following parameters:\n",
    "#  1. STRING n\n",
    "#  2. INTEGER k\n",
    "#\n",
    "\n",
    "def superDigit(n, k):\n",
    "    # Write your code here\n",
    "    if len(n) == 1 and k == 1:\n",
    "        return int(n)\n",
    "    total = 0\n",
    "    for num in n:\n",
    "        total += int(num)\n",
    "    extended_n = k*total\n",
    "    \n",
    "    return superDigit(str(extended_n), k=1) \n",
    "    \n",
    "if __name__ == '__main__':\n",
    "    # fptr = open(os.environ['OUTPUT_PATH'], 'w')\n",
    "\n",
    "    # example input\n",
    "    # 148 3 --> n and k\n",
    "    first_multiple_input = input().rstrip().split()\n",
    "\n",
    "    n = first_multiple_input[0]\n",
    "\n",
    "    k = int(first_multiple_input[1])\n",
    "\n",
    "    result = superDigit(n, k)\n",
    "    print(result)\n",
    "    # fptr.write(str(result) + '\\n')\n",
    "\n",
    "    # fptr.close()\n"
   ]
  },
  {
   "cell_type": "markdown",
   "metadata": {},
   "source": [
    "### Explanation example of what happens when using Recursion:\n",
    "\n",
    "When you make a recursive call within a function, the current state of that function gets \"paused\" and is put on what's called the call stack. The function then starts executing the new recursive call. Once that recursive call completes (i.e., it hits a `return` statement), the function that made that call (which was paused) will resume execution from where it left off.\n",
    "\n",
    "In the `superDigit` function, once the line:\n",
    "```python\n",
    "n = superDigit(str(extended_n), k=1)\n",
    "```\n",
    "executes and completes, the function resumes and goes to the next line, which is:\n",
    "```python\n",
    "return n\n",
    "```\n",
    "\n",
    "To better illustrate, let's look at a simple example:\n",
    "\n",
    "Imagine we're calling `superDigit(\"9875\", 2)`. \n",
    "\n",
    "1. The function sees the length of \"9875\" is not 1, so it calculates the sum which is 29. Then, it multiplies 29 by 2 to get 58. \n",
    "\n",
    "2. Now it makes a recursive call: `superDigit(\"58\", 1)`.\n",
    "\n",
    "3. The initial function (`superDigit(\"9875\", 2)`) is paused. \n",
    "\n",
    "4. Inside `superDigit(\"58\", 1)`, again the length is not 1. It calculates the sum which is 13 and calls `superDigit(\"13\", 1)`.\n",
    "\n",
    "5. The function (`superDigit(\"58\", 1)`) is now paused, and `superDigit(\"13\", 1)` starts executing.\n",
    "\n",
    "6. Inside `superDigit(\"13\", 1)`, it calculates the sum to be 4 and calls `superDigit(\"4\", 1)`.\n",
    "\n",
    "7. Now, `superDigit(\"4\", 1)` sees that the length is 1 and `k` is also 1. So, it directly returns 4.\n",
    "\n",
    "8. The function `superDigit(\"13\", 1)` which called it now resumes, assigns 4 to `n`, and then immediately returns `n` (which is 4).\n",
    "\n",
    "9. Similarly, the function `superDigit(\"58\", 1)` resumes, assigns 4 to `n`, and returns `n`.\n",
    "\n",
    "10. Finally, the initial function (`superDigit(\"9875\", 2)`) resumes, assigns 4 to `n`, and returns `n`.\n",
    "\n",
    "So, the line `return n` executes after each recursive call completes, in the reverse order of how the calls were made (this is the Last In, First Out or LIFO principle of the call stack). This \"unwinding\" of the stack, where each function completes in turn and passes its result back up the chain, is a key concept in recursion."
   ]
  },
  {
   "cell_type": "markdown",
   "metadata": {},
   "source": [
    " # Time and Space Complexity\n",
    " Let's analyze the time and space complexity of the `superDigit` function:\n",
    "\n",
    "1. **Time Complexity**:\n",
    "   \n",
    "   a. **Loop over n**: The loop that iterates over each character of `n` and calculates the sum has a time complexity of \\(O(m)\\), where \\(m\\) is the length of `n`.\n",
    "   \n",
    "   b. **Recursive call**: After computing the sum and multiplying by `k`, the function calls itself recursively. The depth of this recursion is proportional to the number of digits in the resulting number. In the worst case, this depth can be \\(O(log(n))\\), where \\(log(n)\\) represents the number of digits in the number `n`.\n",
    "\n",
    "   Therefore, the overall time complexity for the function can be approximated as \\(O(m \\times log(n))\\). However, since the string length \\(m\\) can be treated as \\(O(log(n))\\) itself (since \\(m\\) represents the digits of the number), the time complexity can also be represented as \\(O(log^2(n))\\).\n",
    "\n",
    "2. **Space Complexity**:\n",
    "\n",
    "   a. **Recursive call stack**: The recursive nature of the function means that there will be multiple instances of the function stored on the call stack until the base case is reached. The depth of this recursion, as mentioned before, can be \\(O(log(n))\\). \n",
    "\n",
    "   b. **Variables**: Apart from the recursive stack, the function uses a constant amount of space for variables (`total`, `extended_n`, etc.).\n",
    "\n",
    "   Therefore, the overall space complexity is dominated by the recursive call stack, making it \\(O(log(n))\\).\n",
    "\n",
    "In summary:\n",
    " - #### Time Comlexity O(log^2n)\n",
    " - #### Space complexity O(logn)"
   ]
  }
 ],
 "metadata": {
  "kernelspec": {
   "display_name": "tf2",
   "language": "python",
   "name": "python3"
  },
  "language_info": {
   "codemirror_mode": {
    "name": "ipython",
    "version": 3
   },
   "file_extension": ".py",
   "mimetype": "text/x-python",
   "name": "python",
   "nbconvert_exporter": "python",
   "pygments_lexer": "ipython3",
   "version": "3.9.13"
  }
 },
 "nbformat": 4,
 "nbformat_minor": 2
}
