{
 "cells": [
  {
   "cell_type": "markdown",
   "metadata": {},
   "source": [
    "<a href=\"https://colab.research.google.com/github/hussainsan/1-week-preparation-kit/blob/main/Day_4/NewYearChaos.ipynb\">\n",
    "  <img src=\"https://colab.research.google.com/assets/colab-badge.svg\" alt=\"Open In Colab\"/>\n",
    "</a>\n",
    "\n",
    "It is New Year's Day and people are in line for the Wonderland rollercoaster ride. Each person wears a sticker indicating their initial position in the queue from  to . Any person can bribe the person directly in front of them to swap positions, but they still wear their original sticker. One person can bribe at most two others.\n",
    "\n",
    "Determine the minimum number of bribes that took place to get to a given queue order. Print the number of bribes, or, if anyone has bribed more than two people, print Too chaotic."
   ]
  },
  {
   "cell_type": "code",
   "execution_count": 10,
   "metadata": {},
   "outputs": [
    {
     "name": "stdout",
     "output_type": "stream",
     "text": [
      "Too chaotic\n"
     ]
    }
   ],
   "source": [
    "#!/bin/python3\n",
    "\n",
    "import math\n",
    "import os\n",
    "import random\n",
    "import re\n",
    "import sys\n",
    "\n",
    "#\n",
    "# Complete the 'minimumBribes' function below.\n",
    "#\n",
    "# The function accepts INTEGER_ARRAY q as parameter.\n",
    "#\n",
    "\n",
    "def minimumBribes(q):\n",
    "    # Write your code here\n",
    "    bribes= 0\n",
    "    for i in range(len(q) -1, -1, -1):\n",
    "        if q[i] - (i + 1) > 2:\n",
    "            print(\"Too chaotic\")\n",
    "            return\n",
    "        for j in range(max(0, q[i] - 2), i):\n",
    "            if q[j] > q[i]:\n",
    "                bribes +=1\n",
    "    print(bribes)\n",
    "\n",
    "if __name__ == '__main__':\n",
    "    # Example input\n",
    "    # 1\n",
    "    # 8\n",
    "    # 5 1 2 3 7 8 6 4\n",
    "    t = int(input().strip())\n",
    "\n",
    "    for t_itr in range(t):\n",
    "        n = int(input().strip())\n",
    "\n",
    "        q = list(map(int, input().rstrip().split()))\n",
    "\n",
    "        minimumBribes(q)\n"
   ]
  },
  {
   "cell_type": "markdown",
   "metadata": {},
   "source": [
    " # Time and Space Complexity\n",
    " - #### Time Comlexity O(n^2)\n",
    " - #### Space complexity O(n)"
   ]
  },
  {
   "cell_type": "markdown",
   "metadata": {},
   "source": [
    "### Using one for loop solution:"
   ]
  },
  {
   "cell_type": "code",
   "execution_count": 15,
   "metadata": {},
   "outputs": [
    {
     "name": "stdout",
     "output_type": "stream",
     "text": [
      "Too chaotic\n"
     ]
    }
   ],
   "source": [
    "def minimumBribes(q):\n",
    "    # Write your code here\n",
    "    bribes = 0\n",
    "    for i in range(len(q)-1, -1, -1):\n",
    "        if q[i] - (i+1) > 2:\n",
    "            print(\"Too chaotic\")\n",
    "            return\n",
    "        elif q[i] != i+1:\n",
    "            if q[i-1] == i + 1: # if the person in front of me is the person I should be in front of\n",
    "                bribes += 1\n",
    "                q[i], q[i-1] = q[i-1], q[i]\n",
    "            elif i-2 >= 0 and q[i-2] == i + 1: # if the person 2 in front of me is the person I should be in front of\n",
    "                bribes += 2\n",
    "                q[i-2], q[i-1] = q[i-1], q[i-2]\n",
    "                q[i-1], q[i] = q[i], q[i-1]\n",
    "    print(bribes)\n",
    "    \n",
    "q = [2, 5, 1, 3, 4]\n",
    "minimumBribes(q)"
   ]
  },
  {
   "cell_type": "markdown",
   "metadata": {},
   "source": [
    " # Time and Space Complexity\n",
    " - #### Time Comlexity `O(n)`\n",
    " - #### Space complexity `O(1)`"
   ]
  },
  {
   "cell_type": "markdown",
   "metadata": {},
   "source": [
    "## Optimized solution using Fenwick Tree:"
   ]
  },
  {
   "cell_type": "code",
   "execution_count": 45,
   "metadata": {},
   "outputs": [
    {
     "name": "stdout",
     "output_type": "stream",
     "text": [
      "Too chaotic\n"
     ]
    }
   ],
   "source": [
    "def minimumBribes(q):\n",
    "    # Fenwick Tree functions\n",
    "    def update(BITree, n, index, val):\n",
    "        while index <= n:\n",
    "            BITree[index] += val\n",
    "            index += index & (-index)\n",
    "\n",
    "    def getsum(BITree, index):\n",
    "        s = 0\n",
    "        while index: # index > 0\n",
    "            s += BITree[index]\n",
    "            index -= index & (-index)\n",
    "        return s\n",
    "\n",
    "    n = len(q)\n",
    "    BITree = [0] * (n + 1)  # Binary Indexed Tree, 1-indexed\n",
    "    bribes = 0\n",
    "    for i in range(n - 1, -1, -1):\n",
    "        if q[i] - (i + 1) > 2:\n",
    "            print(\"Too chaotic\")\n",
    "            return\n",
    "\n",
    "        # Get number of people who are smaller and have already been encountered\n",
    "        bribes += getsum(BITree, q[i] - 1)\n",
    "        \n",
    "        # Mark the current person as seen\n",
    "        update(BITree, n, q[i], 1)\n",
    "    \n",
    "    print(bribes)\n",
    "\n",
    "# Test\n",
    "q = [2, 1, 5, 3, 4]\n",
    "q = [2, 5, 1, 3, 4]\n",
    "minimumBribes(q)\n"
   ]
  },
  {
   "cell_type": "markdown",
   "metadata": {},
   "source": [
    " # Time and Space Complexity\n",
    " - #### Time Comlexity `O(nlogn)`\n",
    " - #### Space complexity `O(n)`"
   ]
  }
 ],
 "metadata": {
  "kernelspec": {
   "display_name": "tf2",
   "language": "python",
   "name": "python3"
  },
  "language_info": {
   "codemirror_mode": {
    "name": "ipython",
    "version": 3
   },
   "file_extension": ".py",
   "mimetype": "text/x-python",
   "name": "python",
   "nbconvert_exporter": "python",
   "pygments_lexer": "ipython3",
   "version": "3.9.13"
  }
 },
 "nbformat": 4,
 "nbformat_minor": 2
}
