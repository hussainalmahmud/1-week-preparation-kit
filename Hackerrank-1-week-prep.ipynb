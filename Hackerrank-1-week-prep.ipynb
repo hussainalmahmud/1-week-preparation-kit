{
 "cells": [
  {
   "cell_type": "markdown",
   "metadata": {},
   "source": [
    "## Day 1"
   ]
  },
  {
   "cell_type": "code",
   "execution_count": 5,
   "metadata": {},
   "outputs": [
    {
     "name": "stdout",
     "output_type": "stream",
     "text": [
      "14 18\n"
     ]
    }
   ],
   "source": [
    "#!/bin/python3\n",
    "\n",
    "import math\n",
    "import os\n",
    "import random\n",
    "import re\n",
    "import sys\n",
    "\n",
    "#\n",
    "# Complete the 'miniMaxSum' function below.\n",
    "#\n",
    "# The function accepts INTEGER_ARRAY arr as parameter.\n",
    "#\n",
    "# Time complexity is O(n^2)\n",
    "# Space complexity is O(1)\n",
    "def miniMaxSum(arr):\n",
    "    # Write your code here\n",
    "    min_sum = float('inf')\n",
    "    max_sum = float('-inf')\n",
    "    for i in range(len(arr)):\n",
    "        current_sum = 0\n",
    "        \n",
    "        for j in range(len(arr)):\n",
    "            if j!=i:\n",
    "                current_sum += arr[j]\n",
    "        if current_sum < min_sum:\n",
    "            min_sum = current_sum\n",
    "        if current_sum > max_sum:\n",
    "            max_sum = current_sum\n",
    "            \n",
    "    \n",
    "    print(min_sum, max_sum)\n",
    "        \n",
    "        \n",
    "if __name__ == '__main__':\n",
    "    arr = list(map(int, input().rstrip().split()))\n",
    "\n",
    "    miniMaxSum(arr)\n"
   ]
  },
  {
   "cell_type": "code",
   "execution_count": null,
   "metadata": {},
   "outputs": [],
   "source": [
    "#!/bin/python3\n",
    "\n",
    "import math\n",
    "import os\n",
    "import random\n",
    "import re\n",
    "import sys\n",
    "\n",
    "#\n",
    "# Complete the 'miniMaxSum' function below.\n",
    "#\n",
    "# The function accepts INTEGER_ARRAY arr as parameter.\n",
    "#\n",
    "# Time complexity is O()\n",
    "# Space complexity is O()\n",
    "def miniMaxSum(arr):\n",
    "    # Write your code here\n",
    "    # Calculate the total sum of all elements\n",
    "    total_sum = sum(arr)\n",
    "    \n",
    "    # Calculate the minimum sum by subtracting the largest element\n",
    "    min_sum = total_sum - max(arr)\n",
    "    \n",
    "    # Calculate the maximum sum by subtracting the smallest element\n",
    "    max_sum = total_sum - min(arr)\n",
    "    \n",
    "    print(min_sum, max_sum)\n",
    "        \n",
    "if __name__ == '__main__':\n",
    "\n",
    "    arr = list(map(int, input().rstrip().split()))\n",
    "\n",
    "    miniMaxSum(arr)\n"
   ]
  },
  {
   "cell_type": "code",
   "execution_count": null,
   "metadata": {},
   "outputs": [],
   "source": [
    "# my solution\n",
    "#!/bin/python3\n",
    "\n",
    "import math\n",
    "import os\n",
    "import random\n",
    "import re\n",
    "import sys\n",
    "\n",
    "#\n",
    "# Complete the 'miniMaxSum' function below.\n",
    "#\n",
    "# The function accepts INTEGER_ARRAY arr as parameter.\n",
    "#\n",
    "# Time complexity is O()\n",
    "# Space complexity is O()\n",
    "def miniMaxSum(arr):\n",
    "    # Write your code here\n",
    "    min_sum = float('inf')\n",
    "    max_sum = float('-inf')\n",
    "    # Calculate the total sum of all elements\n",
    "    total_sum = sum(arr)\n",
    "    \n",
    "    for i in arr:\n",
    "        curr_sum = total_sum - i\n",
    "        \n",
    "        if curr_sum < min_sum:\n",
    "            min_sum = curr_sum\n",
    "        \n",
    "        if curr_sum > max_sum:\n",
    "            max_sum = curr_sum\n",
    "        \n",
    "    \n",
    "    print(min_sum, max_sum)\n",
    "        \n",
    "if __name__ == '__main__':\n",
    "\n",
    "    arr = list(map(int, input().rstrip().split()))\n",
    "\n",
    "    miniMaxSum(arr)\n"
   ]
  },
  {
   "cell_type": "code",
   "execution_count": 6,
   "metadata": {},
   "outputs": [
    {
     "name": "stdout",
     "output_type": "stream",
     "text": [
      "s[2:-2] :01:00\n"
     ]
    }
   ],
   "source": [
    "s = '12:01:00AM'\n",
    "print(\"s[2:-2]\", s[2:-2])  # Outputs: s[2:-2] :01:00\n"
   ]
  },
  {
   "cell_type": "markdown",
   "metadata": {},
   "source": [
    "### Mock Test: findMedian"
   ]
  },
  {
   "cell_type": "code",
   "execution_count": 17,
   "metadata": {},
   "outputs": [
    {
     "name": "stdout",
     "output_type": "stream",
     "text": [
      "4\n",
      "3\n",
      "[0, 1, 2, 3, 4, 5, 6, 7]\n",
      "3.5\n"
     ]
    }
   ],
   "source": [
    "# mock test\n",
    "\n",
    "# for unsorted array find its median\n",
    "# Time complexity is O(n^2 ) not efficient\n",
    "# Space complexity is O(1)\n",
    "def findMedian(arr):\n",
    "    # Write your code here\n",
    "    n = len(arr)\n",
    "    for i in range(n):\n",
    "        swapped = False\n",
    "        for j in range(len(arr)-i-1):\n",
    "            if arr[j] > arr[j+1]:\n",
    "                swapped = True\n",
    "                arr[j], arr[j+1] = arr[j+1], arr[j]\n",
    "        if not swapped:\n",
    "            break\n",
    "    print(arr)\n",
    "    if n%2 ==0:\n",
    "        return (arr[n//2] + arr[n//2-1])/2\n",
    "    else:\n",
    "        return arr[n//2]\n",
    "\n",
    "arr = [0,1,2,4,6,5,3, 7]\n",
    "sorted_arr = [0,1,2,3,4,5,6,7]\n",
    "n = len(arr)\n",
    "print(sorted_arr[n//2])\n",
    "print(sorted_arr[n//2-1])\n",
    "print(findMedian(arr))"
   ]
  },
  {
   "cell_type": "code",
   "execution_count": 19,
   "metadata": {},
   "outputs": [
    {
     "name": "stdout",
     "output_type": "stream",
     "text": [
      "i -1\n",
      "i -1\n",
      "i -1\n",
      "i -1\n",
      "i 3\n",
      "i 4\n",
      "3.5\n"
     ]
    }
   ],
   "source": [
    "# mock test\n",
    "# Time complexity O(nlogn), O(logn) space\n",
    "def partition(arr, low, high):\n",
    "    pivot = arr[high] # pivot is the last element\n",
    "    i = low - 1 # index of smaller element\n",
    "    for j in range(low, high):\n",
    "        if arr[j] < pivot:\n",
    "            i += 1\n",
    "            arr[i], arr[j] = arr[j], arr[i]\n",
    "    arr[i + 1], arr[high] = arr[high], arr[i + 1]\n",
    "    return i + 1\n",
    "\n",
    "def quickSort(arr, low, high):\n",
    "    if low < high: # if low >= high, it means there is only one element in the array\n",
    "        pi = partition(arr, low, high) # pi is the partitioning index\n",
    "        quickSort(arr, low, pi - 1) # subarray before partition\n",
    "        quickSort(arr, pi + 1, high) # subarray after partition\n",
    "\n",
    "def findMedian(arr):\n",
    "    n = len(arr)\n",
    "    \n",
    "    quickSort(arr, 0, n - 1) \n",
    "    \n",
    "    if n % 2 == 0:\n",
    "        return (arr[n // 2] + arr[n // 2 - 1]) / 2\n",
    "    else:\n",
    "        return arr[n // 2]\n",
    "\n",
    "arr = [0, 1, 2, 4, 6, 5, 3, 7]\n",
    "print(findMedian(arr))\n"
   ]
  },
  {
   "cell_type": "code",
   "execution_count": 40,
   "metadata": {},
   "outputs": [
    {
     "name": "stdout",
     "output_type": "stream",
     "text": [
      "[0, 1, 2, 3, 4, 5, 6, 7]\n"
     ]
    }
   ],
   "source": [
    "# time complexity is O(n^2) at worst case, O(nlogn) at average case\n",
    "# space complexity is O(logn), and worst case is O(n) because unbalanced partition\n",
    "# With Quicksort, the input list is partitioned in linear time, O(n), and this process repeats recursively an average of log2n times.\n",
    "# This leads to a final complexity of O(n log2n).\n",
    "# The O(n) best-case scenario happens when the selected pivot is close to the median of the array, \n",
    "# and an O(n2) scenario happens when the pivot is the smallest or largest value of the array.\n",
    "def quicksort(arr):\n",
    "    if len(arr) < 2:\n",
    "        return arr\n",
    "    \n",
    "    # pivot = arr[-1]\n",
    "    from random import randint\n",
    "    pivot = arr[randint(0, len(arr) - 1)]\n",
    "    low, same, high = [], [], []\n",
    "    for item in arr:\n",
    "        if item < pivot:\n",
    "            low.append(item)\n",
    "        elif item == pivot:\n",
    "            same.append(item)\n",
    "        elif item > pivot:\n",
    "            high.append(item)\n",
    "    return quicksort(low) + same + quicksort(high)\n",
    "\n",
    "arr = [0, 1, 2, 4, 6, 5, 3, 7]\n",
    "print(quicksort(arr))"
   ]
  },
  {
   "cell_type": "markdown",
   "metadata": {},
   "source": [
    "# Day 2"
   ]
  },
  {
   "cell_type": "code",
   "execution_count": 43,
   "metadata": {},
   "outputs": [
    {
     "name": "stdout",
     "output_type": "stream",
     "text": [
      "2\n"
     ]
    }
   ],
   "source": [
    "#\n",
    "# Complete the 'lonelyinteger' function below.\n",
    "#\n",
    "# The function is expected to return an INTEGER.\n",
    "# The function accepts INTEGER_ARRAY a as parameter.\n",
    "#\n",
    "\n",
    "def lonelyinteger(a):\n",
    "    # Write your code here\n",
    "    n = len(a)\n",
    "    for i in range(n):\n",
    "        is_duplicate = False\n",
    "        for j in range(n):\n",
    "            if i !=j and a[i] == a[j]:\n",
    "                is_duplicate = True\n",
    "                break\n",
    "        if not is_duplicate:\n",
    "            return a[i]\n",
    "                \n",
    "    return None\n",
    "                \n",
    "        \n",
    "a = [1,1,2,3,4,4,5,5]\n",
    "print(lonelyinteger(a))"
   ]
  },
  {
   "cell_type": "code",
   "execution_count": 48,
   "metadata": {},
   "outputs": [
    {
     "name": "stdout",
     "output_type": "stream",
     "text": [
      "output:  2\n"
     ]
    }
   ],
   "source": [
    "\n",
    "# It XORs unique with each element (unique ^= item). XORing an element with itself cancels it out, \n",
    "# and since all other integers occur twice, they will cancel each other out, leaving only the lonely integer in unique.\n",
    "#\n",
    "# Complete the 'lonelyinteger' function below.\n",
    "#\n",
    "# The function is expected to return an INTEGER.\n",
    "# The function accepts INTEGER_ARRAY a as parameter.\n",
    "#\n",
    "\n",
    "def lonelyinteger(a):\n",
    "    # Write your code here\n",
    "                \n",
    "    unique = 0\n",
    "    for item in a:\n",
    "        unique ^= item\n",
    "        \n",
    "    return unique\n",
    "        \n",
    "ab = [1,1,2,3,3,4,4,5,5]\n",
    "print(\"output: \",lonelyinteger(ab))\n"
   ]
  },
  {
   "cell_type": "markdown",
   "metadata": {},
   "source": [
    "# a = [1,1,2,3,3,4,4,5,5]\n",
    "n = len(a)\n",
    "for i in range(n):\n",
    "    is_duplicate = False\n",
    "    for j in range(n):\n",
    "        if i != j and a[i] == a[j]:\n",
    "            is_duplicate = False\n",
    "            break\n",
    "    if not is_duplicate:\n",
    "        return a[i]\n",
    "return None"
   ]
  },
  {
   "cell_type": "code",
   "execution_count": 18,
   "metadata": {},
   "outputs": [
    {
     "name": "stdout",
     "output_type": "stream",
     "text": [
      "2\n"
     ]
    }
   ],
   "source": [
    "# Time complexity is O(n)\n",
    "# Space complexity is O(n)\n",
    "def diagonalDifference(arr):\n",
    "    # Write your code here\n",
    "    n = len(arr) \n",
    "    m = len(arr[0])\n",
    "    left = 0\n",
    "    right = 0\n",
    "    for i in range(n):\n",
    "        left += arr[i][i]\n",
    "        right += arr[i][n-i-1]\n",
    "    absolute_diff = abs(left - right)\n",
    "    \n",
    "    return absolute_diff\n",
    "\n",
    "arr = [[1,2,3],[4,5,6],[9,8,9]]\n",
    "print(diagonalDifference(arr))\n",
    "\n",
    "# another modified code for memory efficieny:\n",
    "# Time complexity is O(n)\n",
    "# Space complexity is O(1)\n",
    "def diagonalDifference(arr):\n",
    "    # Write your code here\n",
    "    n, m = len(arr), len(arr[0])\n",
    "    abs_diff = 0\n",
    "    for i in range(n):\n",
    "        abs_diff += arr[i][i] - arr[i][m-i-1]\n",
    "    # return abs(left - right)\n",
    "    return abs(abs_diff)"
   ]
  },
  {
   "cell_type": "markdown",
   "metadata": {},
   "source": [
    "## mock test: highest sum of matrix quadrant"
   ]
  },
  {
   "cell_type": "code",
   "execution_count": null,
   "metadata": {},
   "outputs": [],
   "source": [
    "#\n",
    "\n",
    "# Complete the 'flippingMatrix' function below.\n",
    "#\n",
    "# The function is expected to return an INTEGER.\n",
    "# The function accepts 2D_INTEGER_ARRAY matrix as parameter.\n",
    "#\n",
    "def flippingMatrix(matrix):\n",
    "    # Write your code here\n",
    "    n = len(matrix) // 2\n",
    "    m = len(matrix[0]) // 2\n",
    "    total = 0\n",
    "    for i in range(n):\n",
    "        for j in range(m):\n",
    "            total += max(\n",
    "            matrix[i][j], # top-left\n",
    "            matrix[i][2*n - j - 1], # top-right\n",
    "            matrix[2*n - i - 1][j], # bottom-left\n",
    "            matrix[2*n - i - 1][2*n - j - 1] # bottom-right\n",
    "            )\n",
    "    return total\n",
    "\n",
    "matrix = [[112, 42, 83, 119], [56, 125, 56, 49], [15, 78, 101, 43], [62, 98, 114, 108]]\n",
    "\n",
    "print(flippingMatrix(matrix))\n"
   ]
  },
  {
   "cell_type": "markdown",
   "metadata": {},
   "source": [
    "### bubble sort practice"
   ]
  },
  {
   "cell_type": "code",
   "execution_count": 16,
   "metadata": {},
   "outputs": [
    {
     "name": "stdout",
     "output_type": "stream",
     "text": [
      "arr:  [2, 5, 9, 6, 8, 7]\n",
      "arr[:-1]:  [2, 5, 6, 8, 7]\n",
      "arr[-1]:  9\n",
      "arr:  [2, 5, 6, 8, 7]\n",
      "arr[:-1]:  [2, 5, 6, 7]\n",
      "arr[-1]:  8\n",
      "arr:  [2, 5, 6, 7]\n",
      "arr[:-1]:  [2, 5, 6]\n",
      "arr[-1]:  7\n",
      "arr:  [2, 5, 6]\n",
      "arr[:-1]:  [2, 5]\n",
      "arr[-1]:  6\n",
      "arr:  [2, 5]\n",
      "arr[:-1]:  [2]\n",
      "arr[-1]:  5\n",
      "arr:  [2]\n",
      "arr[:-1]:  []\n",
      "arr[-1]:  2\n",
      "arr:  []\n",
      "[2, 5, 6, 7, 8, 9]\n"
     ]
    }
   ],
   "source": [
    "# bubble sort\n",
    "def bubble_sort(arr):\n",
    "    print(\"arr: \",arr)\n",
    "    # edge case\n",
    "    if len(arr) == 0:\n",
    "        return arr\n",
    "    pt1 = 0\n",
    "    pt2 = pt1 + 1\n",
    "    while pt2 < len(arr):\n",
    "        if arr[pt1] > arr[pt2]:\n",
    "            arr[pt1], arr[pt2] = arr[pt2], arr[pt1]\n",
    "        \n",
    "        pt1 +=1\n",
    "        pt2 +=1\n",
    "    print(\"arr[:-1]: \",arr[:-1])\n",
    "    print(\"arr[-1]: \",arr[-1])\n",
    "    return bubble_sort(arr[:-1]) + [arr[-1]]\n",
    "\n",
    "arr = [2,5,9, 6,8,7]\n",
    "print(bubble_sort(arr))"
   ]
  },
  {
   "cell_type": "code",
   "execution_count": 8,
   "metadata": {},
   "outputs": [
    {
     "name": "stderr",
     "output_type": "stream",
     "text": [
      "ic| arr: [2, 3, 5, 8, 9]\n"
     ]
    },
    {
     "name": "stdout",
     "output_type": "stream",
     "text": [
      "[2, 3, 5, 8, 9]\n"
     ]
    }
   ],
   "source": [
    "from icecream import ic\n",
    "\n",
    "def bubble_sort(arr):\n",
    "    # edge case\n",
    "    if len(arr) == 0:\n",
    "        return arr\n",
    "    \n",
    "    for i in range(len(arr)):\n",
    "        for j in range(len(arr)-i-1):\n",
    "            if arr[j] > arr[j+1]:\n",
    "                arr[j+1], arr[j] = arr[j], arr[j+1]\n",
    "    ic(arr)\n",
    "    return arr\n",
    "\n",
    "arr = [2,5, 8,9,3]\n",
    "print(bubble_sort(arr))"
   ]
  },
  {
   "cell_type": "markdown",
   "metadata": {},
   "source": [
    "# Day 3"
   ]
  },
  {
   "cell_type": "code",
   "execution_count": null,
   "metadata": {},
   "outputs": [],
   "source": []
  }
 ],
 "metadata": {
  "kernelspec": {
   "display_name": "opcv",
   "language": "python",
   "name": "python3"
  },
  "language_info": {
   "codemirror_mode": {
    "name": "ipython",
    "version": 3
   },
   "file_extension": ".py",
   "mimetype": "text/x-python",
   "name": "python",
   "nbconvert_exporter": "python",
   "pygments_lexer": "ipython3",
   "version": "3.9.13"
  }
 },
 "nbformat": 4,
 "nbformat_minor": 2
}
