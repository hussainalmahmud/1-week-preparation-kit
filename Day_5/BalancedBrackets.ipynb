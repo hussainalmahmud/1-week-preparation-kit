{
 "cells": [
  {
   "cell_type": "markdown",
   "metadata": {},
   "source": [
    "<a href=\"https://colab.research.google.com/github/hussainsan/1-week-preparation-kit/blob/main/Day_5/BalancedBrackets.ipynb\">\n",
    "  <img src=\"https://colab.research.google.com/assets/colab-badge.svg\" alt=\"Open In Colab\"/>\n",
    "</a>"
   ]
  },
  {
   "cell_type": "code",
   "execution_count": 10,
   "metadata": {},
   "outputs": [
    {
     "name": "stdout",
     "output_type": "stream",
     "text": [
      "Yes\n"
     ]
    }
   ],
   "source": [
    "def isBalanced(s):\n",
    "    # Write your code here\n",
    "    # {[()]}\n",
    "    stack = []\n",
    "    mapping = {\")\": \"(\", \"}\": \"{\", \"]\": \"[\"}\n",
    "    \n",
    "    for char in s: # \n",
    "        if char in mapping.values(): # {, [, (\n",
    "            stack.append(char)\n",
    "            \n",
    "        elif char in mapping.keys():\n",
    "            if stack == [] or mapping[char] != stack.pop():\n",
    "                return \"No\"\n",
    "        else:\n",
    "            return \"No\"\n",
    "        \n",
    "    return \"Yes\" if stack == [] else \"No\"\n",
    "    \n",
    "                \n",
    "            \n",
    "\n",
    "if __name__ == '__main__':\n",
    "    # fptr = open(os.environ['OUTPUT_PATH'], 'w')\n",
    "    # s = \"{[()]}\"\n",
    "    t = int(input().strip())\n",
    "\n",
    "    for t_itr in range(t):\n",
    "        s = input()\n",
    "\n",
    "        result = isBalanced(s)\n",
    "\n",
    "        print(result)\n",
    "        # fptr.write(result + '\\n')\n",
    "\n",
    "    # fptr.close()"
   ]
  },
  {
   "cell_type": "markdown",
   "metadata": {},
   "source": [
    " # Time and Space Complexity\n",
    " \n",
    " - #### Time Comlexity `O(n)` --> for having the for loop\n",
    " - #### Space complexity `O(n)` --> for having stack"
   ]
  },
  {
   "cell_type": "markdown",
   "metadata": {},
   "source": [
    "## Implementing the mapping in opposite way"
   ]
  },
  {
   "cell_type": "code",
   "execution_count": 13,
   "metadata": {},
   "outputs": [
    {
     "name": "stdout",
     "output_type": "stream",
     "text": [
      "YES\n"
     ]
    }
   ],
   "source": [
    "def isBalanced(s):\n",
    "    # Write your code here\n",
    "    stack = []\n",
    "    # reverse mappings\n",
    "    mappings = {\"(\": \")\", \"{\": \"}\", \"[\": \"]\"}\n",
    "    for char in s: \n",
    "        if char in mappings.keys(): \n",
    "            stack.append(mappings[char])\n",
    "            \n",
    "        elif char in mappings.values():\n",
    "            if stack == [] or  char != stack.pop():\n",
    "                return \"NO\"\n",
    "\n",
    "        else:\n",
    "            return \"NO\"\n",
    "\n",
    "    return \"YES\" if not stack else \"NO\"\n",
    "\n",
    "if __name__ == '__main__':\n",
    "    # fptr = open(os.environ['OUTPUT_PATH'], 'w')\n",
    "    # s = \"{[()]}\"\n",
    "    t = int(input().strip())\n",
    "\n",
    "    for t_itr in range(t):\n",
    "        s = input()\n",
    "\n",
    "        result = isBalanced(s)\n",
    "\n",
    "        print(result)\n",
    "        # fptr.write(result + '\\n')\n",
    "\n",
    "    # fptr.close()"
   ]
  }
 ],
 "metadata": {
  "kernelspec": {
   "display_name": "tf2",
   "language": "python",
   "name": "python3"
  },
  "language_info": {
   "codemirror_mode": {
    "name": "ipython",
    "version": 3
   },
   "file_extension": ".py",
   "mimetype": "text/x-python",
   "name": "python",
   "nbconvert_exporter": "python",
   "pygments_lexer": "ipython3",
   "version": "3.9.13"
  }
 },
 "nbformat": 4,
 "nbformat_minor": 2
}
