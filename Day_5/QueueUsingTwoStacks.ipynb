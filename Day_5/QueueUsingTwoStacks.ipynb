{
 "cells": [
  {
   "cell_type": "markdown",
   "metadata": {},
   "source": [
    "<a href=\"https://colab.research.google.com/github/hussainsan/1-week-preparation-kit/blob/main/Day_5/QueueUsingTwoStacks.ipynb\">\n",
    "  <img src=\"https://colab.research.google.com/assets/colab-badge.svg\" alt=\"Open In Colab\"/>\n",
    "</a>"
   ]
  },
  {
   "cell_type": "code",
   "execution_count": 15,
   "metadata": {},
   "outputs": [
    {
     "name": "stdout",
     "output_type": "stream",
     "text": [
      "14\n",
      "14\n"
     ]
    }
   ],
   "source": [
    "# Enter your code here. Read input from STDIN. Print output to STDOUT\n",
    "import sys\n",
    "\n",
    "class QueueUsingTwoStacks():\n",
    "    def __init__(self):\n",
    "        self.stack1 = []\n",
    "        self.stack2 = []\n",
    "    \n",
    "    def enqueue(self, item):\n",
    "        self.stack1.append(item)\n",
    "        \n",
    "    def dequeue(self):\n",
    "        if not self.stack2: # if stack2 is empty\n",
    "            while self.stack1:\n",
    "                self.stack2.append(self.stack1.pop())\n",
    "        # if both stacks are empty\n",
    "        if not self.stack1 and not self.stack2:\n",
    "            return None\n",
    "        else:\n",
    "            return self.stack2.pop()  \n",
    "        \n",
    "        \n",
    "    def front(self):\n",
    "        # if stack2 has elements the top is the front\n",
    "        if self.stack2:\n",
    "            return self.stack2[-1]\n",
    "        # if stack2 is empty, but stack1 is not, the front is at the bottom of stack1\n",
    "        elif self.stack1:\n",
    "            return self.stack1[0]\n",
    "        # otherwise, both stacks are empty\n",
    "        else:\n",
    "            return None\n",
    "        \n",
    "if __name__ == '__main__':  \n",
    "    # sample input\n",
    "    # 10   -> number of queries\n",
    "    # 1 42 -> enqueue 42\n",
    "    # 2    -> dequeue\n",
    "    # 1 14 -> enqueue 14\n",
    "    # 3    -> print front\n",
    "    # 1 28 -> enqueue 28\n",
    "    # 3     -> print front\n",
    "    # 1 60  -> enqueue 60\n",
    "    # 1 78 -> enqueue 78\n",
    "    # 2    -> dequeue\n",
    "    # 2    -> dequeue\n",
    "    \n",
    "    q = int(input().strip())\n",
    "\n",
    "    queue = QueueUsingTwoStacks()\n",
    "    for _ in range(q):\n",
    "        query = list(map(int, input().strip().split()))\n",
    "        \n",
    "        # if query is 1, enqueue\n",
    "        if query[0] == 1:\n",
    "            queue.enqueue(query[1])\n",
    "        elif query[0] == 2:\n",
    "            queue.dequeue()\n",
    "        elif query[0] == 3:\n",
    "            print(queue.front())\n",
    "        "
   ]
  },
  {
   "cell_type": "markdown",
   "metadata": {},
   "source": [
    "Let's analyze the time and space complexity for this version which uses two stacks:\n",
    "\n",
    "1. **Space Complexity**:\n",
    "   - We're using two stacks (`stack1` and `stack2`). However, at any given time, the sum of the number of elements in both stacks will not exceed the total number of enqueued items (since one element isn't present in both stacks at once). So, the **space complexity is O(n)**, where `n` is the number of enqueued elements.\n",
    "\n",
    "2. **Time Complexity**:\n",
    "\n",
    "   - `enqueue(item)`: The `append(item)` operation on a list has a constant time complexity, O(1). So, the time complexity of the `enqueue` method is **O(1)**.\n",
    "\n",
    "   - `dequeue()`: \n",
    "     - If `stack2` is not empty, the `pop()` operation from `stack2` has a time complexity of O(1).\n",
    "     - If `stack2` is empty and `stack1` has items, then every item from `stack1` is popped (O(1) for each item) and appended to `stack2` (also O(1) for each item). This might seem O(n) for a single `dequeue` operation in the worst case, but note that each item is moved from `stack1` to `stack2` only once and then it's popped from `stack2` in O(1). Thus, when amortized over multiple operations, this becomes an average of O(1) for each `dequeue` operation. This is an example of **amortized O(1)** complexity.\n",
    "\n",
    "   - `front()`: Accessing the first element of a list (`stack1[0]`) or the last element (`stack2[-1]`) both have constant time complexity. So, the `front` method's time complexity is **O(1)**.\n",
    "\n",
    "Overall, for each of the operations (enqueue, dequeue, front), the time complexity is constant (O(1)), although the `dequeue` operation has an amortized O(1) time complexity. This two-stack approach is efficient in terms of both time and space complexity."
   ]
  },
  {
   "cell_type": "markdown",
   "metadata": {},
   "source": [
    "#### Using only one stack with insert method (not efficient in terms of time compared to using Two stacks)"
   ]
  },
  {
   "cell_type": "code",
   "execution_count": 16,
   "metadata": {},
   "outputs": [
    {
     "name": "stdout",
     "output_type": "stream",
     "text": [
      "14\n",
      "14\n"
     ]
    }
   ],
   "source": [
    "# Enter your code here. Read input from STDIN. Print output to STDOUT\n",
    "import sys\n",
    "\n",
    "class QueueUsingOneStacks():\n",
    "    def __init__(self):\n",
    "        self.stack1 = []\n",
    "    \n",
    "    def enqueue(self, item):\n",
    "        self.stack1.insert(0, item)\n",
    "        \n",
    "    def dequeue(self):\n",
    "        if self.stack1:\n",
    "            return self.stack1.pop()\n",
    "        else:\n",
    "            return None\n",
    "        \n",
    "    def front(self):\n",
    "        if self.stack1:\n",
    "            return self.stack1[-1]\n",
    "        else:\n",
    "            return None\n",
    "        \n",
    "if __name__ == '__main__':  \n",
    "    # sample input\n",
    "    # 10   -> number of queries\n",
    "    # 1 42 -> enqueue 42\n",
    "    # 2    -> dequeue\n",
    "    # 1 14 -> enqueue 14\n",
    "    # 3    -> print front\n",
    "    # 1 28 -> enqueue 28\n",
    "    # 3     -> print front\n",
    "    # 1 60  -> enqueue 60\n",
    "    # 1 78 -> enqueue 78\n",
    "    # 2    -> dequeue\n",
    "    # 2    -> dequeue\n",
    "    \n",
    "    q = int(input().strip())\n",
    "\n",
    "    queue = QueueUsingTwoStacks()\n",
    "    for _ in range(q):\n",
    "        query = list(map(int, input().strip().split()))\n",
    "        \n",
    "        # if query is 1, enqueue\n",
    "        if query[0] == 1:\n",
    "            queue.enqueue(query[1])\n",
    "        elif query[0] == 2:\n",
    "            queue.dequeue()\n",
    "        elif query[0] == 3:\n",
    "            print(queue.front())\n",
    "        "
   ]
  },
  {
   "cell_type": "markdown",
   "metadata": {},
   "source": [
    "Let's analyze the time and space complexity of the provided code where we used `insert()` with a single stack:\n",
    "\n",
    "1. **Space Complexity**:\n",
    "   - We're using only one stack (`stack1`), so the space complexity is determined by the number of elements in the queue. The maximum number of elements at any time in the stack can be the total number of enqueued elements. Thus, the **space complexity is O(n)**, where `n` is the number of enqueued elements.\n",
    "\n",
    "2. **Time Complexity**:\n",
    "\n",
    "   - `enqueue(item)`: The `insert(0, item)` operation on a list inserts the item at the beginning, which has a time complexity of O(n) because every subsequent item in the list needs to be shifted. So, the time complexity of the `enqueue` method is **O(n)**.\n",
    "\n",
    "   - `dequeue()`: The `pop()` operation at the end of a list is O(1), so the time complexity for `dequeue` is **O(1)**.\n",
    "\n",
    "   - `front()`: Accessing the last element of a list using the index `[-1]` is a constant-time operation, so the time complexity for `front` is **O(1)**.\n",
    "\n",
    "Given these complexities, if you're processing a series of `enqueue` and `dequeue` operations, the average time complexity can vary. If you're mostly enqueueing, then the dominant time complexity will be O(n) due to the `insert` operation. On the other hand, if you're mostly dequeueing or accessing the front, the time complexity will often be O(1). However, because of the potential O(n) complexity of the `enqueue` operation, it's important to be aware of this potential bottleneck in scenarios with frequent enqueue operations."
   ]
  },
  {
   "cell_type": "markdown",
   "metadata": {},
   "source": [
    "#### Using python collections"
   ]
  },
  {
   "cell_type": "code",
   "execution_count": 17,
   "metadata": {},
   "outputs": [
    {
     "name": "stdout",
     "output_type": "stream",
     "text": [
      "14\n",
      "14\n"
     ]
    }
   ],
   "source": [
    "from collections import deque\n",
    "\n",
    "class Queue:\n",
    "    def __init__(self):\n",
    "        self.queue = deque()\n",
    "        \n",
    "    def enqueue(self, item):\n",
    "        self.queue.appendleft(item)\n",
    "    \n",
    "    def dequeue(self):\n",
    "        if self.queue:\n",
    "            return self.queue.pop()\n",
    "        else:\n",
    "            return None\n",
    "    \n",
    "    def front(self):\n",
    "        if self.queue:\n",
    "            return self.queue[-1]\n",
    "        else:\n",
    "            return None\n",
    "    \n",
    "if __name__ == '__main__':\n",
    "    # sample input\n",
    "    # 10   -> number of queries\n",
    "    # 1 42 -> enqueue 42\n",
    "    # 2    -> dequeue\n",
    "    # 1 14 -> enqueue 14\n",
    "    # 3    -> print front\n",
    "    # 1 28 -> enqueue 28\n",
    "    # 3     -> print front\n",
    "    # 1 60  -> enqueue 60\n",
    "    # 1 78 -> enqueue 78\n",
    "    # 2    -> dequeue\n",
    "    # 2    -> dequeue\n",
    "    q = int(input().strip())\n",
    "    queue = Queue()\n",
    "    for _ in range(q):\n",
    "        query = list(map(int, input().strip().split()))\n",
    "        \n",
    "        # if query is 1, enqueue\n",
    "        if query[0] == 1:\n",
    "            queue.enqueue(query[1])\n",
    "        elif query[0] == 2:\n",
    "            queue.dequeue()\n",
    "        elif query[0] == 3:\n",
    "            print(queue.front())\n",
    "\n",
    "        "
   ]
  },
  {
   "cell_type": "markdown",
   "metadata": {},
   "source": [
    "This code uses Python's built-in `deque` from the `collections` module, which is implemented as a doubly-linked list. Let's analyze the time and space complexity:\n",
    "\n",
    "1. **Space Complexity**:\n",
    "   - The space complexity is dominated by the size of the `deque`, which grows with the number of enqueued elements. So, the **space complexity is O(n)**, where `n` is the number of enqueued elements.\n",
    "\n",
    "2. **Time Complexity**:\n",
    "\n",
    "   - `enqueue(item)`: Appending an item to the left (`appendleft(item)`) of a `deque` is a constant time operation. So, the time complexity of the `enqueue` method is **O(1)**.\n",
    "\n",
    "   - `dequeue()`: Popping an item from the right (`pop()`) of a `deque` is also a constant time operation. So, the time complexity for `dequeue` is **O(1)**.\n",
    "\n",
    "   - `front()`: Accessing the last element of a `deque` using the index `[-1]` is a constant-time operation. So, the time complexity for `front` is **O(1)**.\n",
    "\n",
    "Overall, for each of the operations (`enqueue`, `dequeue`, and `front`), **the time complexity is constant**, `O(1)`. This is one of the reasons why `deque` is commonly used for implementing queues in Python—it offers efficient constant time operations for typical queue operations."
   ]
  },
  {
   "cell_type": "code",
   "execution_count": null,
   "metadata": {},
   "outputs": [],
   "source": []
  }
 ],
 "metadata": {
  "kernelspec": {
   "display_name": "tf2",
   "language": "python",
   "name": "python3"
  },
  "language_info": {
   "codemirror_mode": {
    "name": "ipython",
    "version": 3
   },
   "file_extension": ".py",
   "mimetype": "text/x-python",
   "name": "python",
   "nbconvert_exporter": "python",
   "pygments_lexer": "ipython3",
   "version": "3.9.13"
  }
 },
 "nbformat": 4,
 "nbformat_minor": 2
}
