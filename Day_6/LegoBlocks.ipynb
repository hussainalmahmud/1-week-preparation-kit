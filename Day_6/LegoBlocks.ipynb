{
 "cells": [
  {
   "cell_type": "markdown",
   "metadata": {},
   "source": [
    "<a href=\"https://colab.research.google.com/github/hussainsan/1-week-preparation-kit/blob/main/Day_6/LegoBlocks.ipynb\">\n",
    "  <img src=\"https://colab.research.google.com/assets/colab-badge.svg\" alt=\"Open In Colab\"/>\n",
    "</a>"
   ]
  },
  {
   "cell_type": "code",
   "execution_count": 11,
   "metadata": {},
   "outputs": [
    {
     "name": "stdout",
     "output_type": "stream",
     "text": [
      "9\n"
     ]
    }
   ],
   "source": [
    "def legoBlocks(n, m):\n",
    "    A = 1000000007 # modulo\n",
    "    r = [0]*(m+1) # r[i] = number of ways to fill a row of length i\n",
    "    a = [0]*(m+1) # a[i] = number of ways to fill a row of length i with no gaps\n",
    "    \n",
    "    a[0] = 1 # base case\n",
    "    for j in range(1, m+1): # for each row length\n",
    "        a[j] += a[j-1] if j-1>=0 else 0 # no gaps\n",
    "        a[j] += a[j-2] if j-2 >=0 else 0 # 1 gap \n",
    "        a[j] += a[j-3] if j-3 >=0 else 0 # 2 gaps\n",
    "        a[j] += a[j-4] if j-4 >=0 else 0 # 3 gaps\n",
    "    for j in range(1, m+1): # for each row length\n",
    "        a[j] = a[j] % A \n",
    "        a[j] = a[j]**n # raise to power n\n",
    "        a[j] = a[j] % A \n",
    "    \n",
    "    r[1] = 1 # base case\n",
    "    for j in range(2, m+1):\n",
    "        r[j] = a[j] # number of ways to fill a row of length j\n",
    "        for k in range(1,j):\n",
    "            r[j] = r[j] - r[k]*a[j-k] # subtract number of ways to fill a row of length j with a gap of length k\n",
    "        r[j] = r[j] % A \n",
    "    return r[m] % A\n",
    "        \n",
    "n = 2\n",
    "m = 3\n",
    "print(legoBlocks(n, m))"
   ]
  },
  {
   "cell_type": "markdown",
   "metadata": {},
   "source": [
    " # Time and Space Complexity\n",
    " \n",
    "### Space Complexity:\n",
    "\n",
    "1. Arrays `r` and `a` both have a size `(m+1)`, so space complexity due to them is \\(O(m)\\).\n",
    "2. Variables like `j`, `k`, `A`, `n`, and `m` take up constant space.\n",
    "\n",
    "Therefore, the **total space complexity** is \\(O(m)\\).\n",
    "\n",
    "### Time Complexity:\n",
    "\n",
    "1. Initialization of `a` and `r` is \\(O(m)\\).\n",
    "   \n",
    "2. The first loop:\n",
    "   ```python\n",
    "   for j in range(1, m+1):\n",
    "       a[j] += a[j-1] if j-1>=0 else 0\n",
    "       a[j] += a[j-2] if j-2>=0 else 0\n",
    "       ...\n",
    "   ```\n",
    "   This loop runs `m` times. Inside the loop, the operations are all constant time. Thus, the time complexity of this section is \\(O(m)\\).\n",
    "\n",
    "3. The second loop:\n",
    "   ```python\n",
    "   for j in range(1, m+1):\n",
    "       a[j] = a[j] % A\n",
    "       ...\n",
    "   ```\n",
    "   This loop also runs `m` times with constant-time operations inside, so its time complexity is also \\(O(m)\\).\n",
    "\n",
    "4. The third loop:\n",
    "   ```python\n",
    "   for j in range(2, m+1):\n",
    "       r[j] = a[j]\n",
    "       for k in range(1, j):\n",
    "           ...\n",
    "   ```\n",
    "   This is a nested loop. For each `j`, the inner loop runs up to `j` times. The total number of iterations, in this case, would be roughly \\(\\frac{m(m+1)}{2}\\), which is equivalent to \\(O(m^2)\\).\n",
    "\n",
    "Considering all the loops, the **total time complexity** of the function is \\(O(m) + O(m) + O(m^2) = O(m^2)\\).\n",
    "\n",
    "In summary:\n",
    "- **Space Complexity**: \\(O(m)\\)\n",
    "- **Time Complexity**: \\(O(m^2)\\)"
   ]
  },
  {
   "cell_type": "markdown",
   "metadata": {},
   "source": []
  }
 ],
 "metadata": {
  "kernelspec": {
   "display_name": "tf2",
   "language": "python",
   "name": "python3"
  },
  "language_info": {
   "codemirror_mode": {
    "name": "ipython",
    "version": 3
   },
   "file_extension": ".py",
   "mimetype": "text/x-python",
   "name": "python",
   "nbconvert_exporter": "python",
   "pygments_lexer": "ipython3",
   "version": "3.9.13"
  }
 },
 "nbformat": 4,
 "nbformat_minor": 2
}
