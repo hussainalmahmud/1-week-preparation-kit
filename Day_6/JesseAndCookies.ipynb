{
 "cells": [
  {
   "cell_type": "markdown",
   "metadata": {},
   "source": [
    "<a href=\"https://colab.research.google.com/github/hussainsan/1-week-preparation-kit/blob/main/Day_6/JesseAndCookies.ipynb\">\n",
    "  <img src=\"https://colab.research.google.com/assets/colab-badge.svg\" alt=\"Open In Colab\"/>\n",
    "</a>"
   ]
  },
  {
   "cell_type": "code",
   "execution_count": 1,
   "metadata": {},
   "outputs": [
    {
     "name": "stdout",
     "output_type": "stream",
     "text": [
      "2\n"
     ]
    }
   ],
   "source": [
    "#!/bin/python3\n",
    "\n",
    "import math\n",
    "import os\n",
    "import random\n",
    "import re\n",
    "import sys\n",
    "\n",
    "#\n",
    "# Complete the 'cookies' function below.\n",
    "#\n",
    "# The function is expected to return an INTEGER.\n",
    "# The function accepts following parameters:\n",
    "#  1. INTEGER k\n",
    "#  2. INTEGER_ARRAY A\n",
    "#\n",
    "\n",
    "def cookies(k, A):\n",
    "    # Write your code here\n",
    "    import heapq\n",
    "    heapq.heapify(A)\n",
    "    count = 0\n",
    "    \n",
    "    if len(A) == 1 and A[0] < k: \n",
    "        return -1 \n",
    "        \n",
    "    while A[0] < k and len(A) > 1: \n",
    "        count += 1\n",
    "        # a smallest, b second smallest values\n",
    "        a, b = heapq.heappop(A), heapq.heappop(A) \n",
    "        new_sweetness = a + (2* b)\n",
    "        heapq.heappush(A, new_sweetness) \n",
    "        \n",
    "    \n",
    "    if A[0] < k:\n",
    "        return -1\n",
    "    else:\n",
    "        return count\n",
    "        \n",
    "    \n",
    "if __name__ == '__main__':\n",
    "    \n",
    "    # fptr = open(os.environ['OUTPUT_PATH'], 'w')\n",
    "\n",
    "    # example input\n",
    "    # 6 7\n",
    "    # 1 2 3 9 10 12\n",
    "    # expected output\n",
    "    # 2\n",
    "    first_multiple_input = input().rstrip().split()\n",
    "\n",
    "    n = int(first_multiple_input[0])\n",
    "\n",
    "    k = int(first_multiple_input[1])\n",
    "\n",
    "    A = list(map(int, input().rstrip().split()))\n",
    "\n",
    "    result = cookies(k, A)\n",
    "    print(result)\n",
    "    # fptr.write(str(result) + '\\n')\n",
    "\n",
    "    # fptr.close()\n"
   ]
  },
  {
   "cell_type": "markdown",
   "metadata": {},
   "source": [
    " # Time and Space Complexity\n",
    " \n",
    "### Space Complexity:\n",
    "\n",
    "1. The list `A` is transformed into a heap in-place. Thus, there is no additional space required for the heap.\n",
    "2. Variables `count`, `a`, `b`, and `new_sweetness` take up constant space.\n",
    "\n",
    "The dominant factor here is the space used by the list `A`, so the space complexity is **O(n)** where n is the number of elements in the list `A`.\n",
    "\n",
    "### Time Complexity:\n",
    "\n",
    "1. `heapq.heapify(A)` is an O(n) operation.\n",
    "2. The while loop:\n",
    "    - Checking the condition (i.e., `A[0] < k` and `len(A) > 1`) is a constant-time operation, O(1).\n",
    "    - Inside the loop, `heapq.heappop(A)` takes O(log n) time. Since `heapq.heappop(A)` is called twice, it will be 2 * O(log n) = O(log n).\n",
    "    - `heapq.heappush(A, new_sweetness)` also takes O(log n) time.\n",
    "  \n",
    "  The inside of the loop is dominated by O(log n) operations. In the worst-case scenario, you might have to run the loop n times (if each combination only increases the minimum sweetness by a very small amount). So the while loop can be approximated as O(n log n) in the worst case.\n",
    "\n",
    "Adding everything up, the dominant factor is the while loop. So, the time complexity is **O(n log n)**.\n",
    "\n",
    "In summary:\n",
    "\n",
    "- **Space Complexity**: `O(n)`\n",
    "- **Time Complexity**: `O(n log n)`"
   ]
  },
  {
   "cell_type": "markdown",
   "metadata": {},
   "source": []
  },
  {
   "cell_type": "markdown",
   "metadata": {},
   "source": [
    "#### Naiive Solution:"
   ]
  },
  {
   "cell_type": "code",
   "execution_count": 14,
   "metadata": {},
   "outputs": [
    {
     "name": "stdout",
     "output_type": "stream",
     "text": [
      "sorted_A_beg [1, 2, 3, 9, 10, 12]\n",
      "sorted_A [3, 5, 9, 10, 12]\n",
      "sorted_A [9, 10, 12, 13]\n"
     ]
    },
    {
     "data": {
      "text/plain": [
       "2"
      ]
     },
     "execution_count": 14,
     "metadata": {},
     "output_type": "execute_result"
    }
   ],
   "source": [
    "#!/bin/python3\n",
    "\n",
    "import math\n",
    "import os\n",
    "import random\n",
    "import re\n",
    "import sys\n",
    "\n",
    "#\n",
    "# Complete the 'cookies' function below.\n",
    "#\n",
    "# The function is expected to return an INTEGER.\n",
    "# The function accepts following parameters:\n",
    "#  1. INTEGER k\n",
    "#  2. INTEGER_ARRAY A\n",
    "#\n",
    "\n",
    "def quicksort(A):\n",
    "    from random import randint\n",
    "    if len(A) < 2:\n",
    "        return A\n",
    "    \n",
    "    pivot = A[randint(0, len(A)-1)]\n",
    "    small, same, high = [], [], []\n",
    "    \n",
    "    for i in A:\n",
    "        if i < pivot:\n",
    "            small.append(i)\n",
    "        elif i == pivot:\n",
    "            same.append(i)\n",
    "        elif i > pivot:\n",
    "            high.append(i)\n",
    "    return quicksort(small) + same +   quicksort(high)\n",
    "    \n",
    "    \n",
    "def cookies_naive(k, A):\n",
    "    sorted_A = quicksort(A)\n",
    "    print(\"sorted_A_beg\", sorted_A)    \n",
    "    count = 0\n",
    "    while sorted_A[0] < k and len(sorted_A) > 1:\n",
    "        count += 1\n",
    "        a, b = sorted_A.pop(0), sorted_A.pop(0)\n",
    "        new_sweetness = a + (2* b)\n",
    "        sorted_A.append(new_sweetness)\n",
    "        sorted_A = quicksort(sorted_A)\n",
    "        print(\"sorted_A\", sorted_A)\n",
    "    \n",
    "    if sorted_A[0] < k:\n",
    "        return -1\n",
    "    else:\n",
    "        return count\n",
    "    \n",
    "    \n",
    "k = 7\n",
    "A = [1, 2, 3, 9, 10, 12]\n",
    "cookies_naive(k, A)"
   ]
  },
  {
   "cell_type": "markdown",
   "metadata": {},
   "source": [
    " # Time and Space Complexity of Naive solution\n",
    "\n",
    "\n",
    "### 1. `quicksort(A)`:\n",
    "\n",
    "**Time Complexity**: \n",
    "- The best-case and average-case time complexity for randomized quicksort is \\(O(n \\log n)\\) where \\(n\\) is the length of the list `A`. However, the worst-case time complexity is \\(O(n^2)\\), but this is less likely due to the randomized choice of the pivot.\n",
    "  \n",
    "**Space Complexity**: \n",
    "- Due to the recursive nature of quicksort, the space complexity is related to the depth of the recursion, which is \\(O(\\log n)\\) on average. However, since new lists `small`, `same`, and `high` are created for each recursive call, the space complexity can go up to \\(O(n)\\) in the worst-case scenario.\n",
    "\n",
    "### 2. `cookies_naive(k, A)`:\n",
    "\n",
    "**Time Complexity**: \n",
    "- `quicksort(A)` is called initially: \\(O(n \\log n)\\) on average.\n",
    "- Inside the while loop:\n",
    "  - Popping two elements from the start of the list is \\(O(n)\\).\n",
    "  - Appending an element to the list is \\(O(1)\\).\n",
    "  - `quicksort(sorted_A)` is called after each combination: \\(O(n \\log n)\\) on average.\n",
    "  \n",
    "  If the while loop runs for \\(m\\) iterations, the total complexity inside the while loop is \\(O(m \\times n \\log n)\\).\n",
    "  \n",
    "Combining these complexities for `cookies_naive`, the overall time complexity is \\(O(n \\log n + m \\times n \\log n)\\) which can be approximated to \\(O(m \\times n \\log n)\\) where \\(m\\) is the number of iterations of the while loop.\n",
    "\n",
    "**Space Complexity**:\n",
    "- `sorted_A` takes \\(O(n)\\).\n",
    "- The space used by `quicksort` is \\(O(n)\\) in the worst case.\n",
    "  \n",
    "So, the overall space complexity for `cookies_naive` is \\(O(n)\\).\n",
    "\n",
    "**Conclusion**:\n",
    "- **Time Complexity**: \\(O(m \\times n \\log n)\\) where \\(m\\) is the number of iterations of the while loop.\n",
    "- **Space Complexity**: \\(O(n)\\)."
   ]
  }
 ],
 "metadata": {
  "kernelspec": {
   "display_name": "tf2",
   "language": "python",
   "name": "python3"
  },
  "language_info": {
   "codemirror_mode": {
    "name": "ipython",
    "version": 3
   },
   "file_extension": ".py",
   "mimetype": "text/x-python",
   "name": "python",
   "nbconvert_exporter": "python",
   "pygments_lexer": "ipython3",
   "version": "3.9.13"
  }
 },
 "nbformat": 4,
 "nbformat_minor": 2
}
