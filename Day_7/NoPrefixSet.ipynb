{
 "cells": [
  {
   "cell_type": "markdown",
   "metadata": {},
   "source": [
    "<a href=\"https://colab.research.google.com/github/hussainsan/1-week-preparation-kit/blob/main/Day_7/NoPrefixSet.ipynb\">\n",
    "  <img src=\"https://colab.research.google.com/assets/colab-badge.svg\" alt=\"Open In Colab\"/>\n",
    "</a>"
   ]
  },
  {
   "cell_type": "code",
   "execution_count": 25,
   "metadata": {},
   "outputs": [
    {
     "name": "stdout",
     "output_type": "stream",
     "text": [
      "BAD SET\n",
      "aacghgh\n"
     ]
    }
   ],
   "source": [
    "#!/bin/python3\n",
    "\n",
    "import math\n",
    "import os\n",
    "import random\n",
    "import re\n",
    "import sys\n",
    "\n",
    "#\n",
    "# Complete the 'noPrefix' function below.\n",
    "#\n",
    "# The function accepts STRING_ARRAY words as parameter.\n",
    "#\n",
    "class TrieNode:\n",
    "    def __init__(self):\n",
    "        self.children = {}\n",
    "        self.is_end_of_word = False\n",
    "\n",
    "class Trie:\n",
    "    def __init__(self):\n",
    "        self.root = TrieNode()\n",
    "\n",
    "    def insert(self, word):\n",
    "        \"\"\"Insert a word into the trie.\"\"\"\n",
    "        node = self.root\n",
    "        for char in word:\n",
    "            if char not in node.children:\n",
    "                node.children[char] = TrieNode()\n",
    "            node = node.children[char]\n",
    "        node.is_end_of_word = True\n",
    "\n",
    "    def search(self, word):\n",
    "        node = self.root\n",
    "        for char in word:\n",
    "            if char not in node.children:\n",
    "                return False\n",
    "            node = node.children[char]\n",
    "        return node.is_end_of_word\n",
    "\n",
    "    def starts_with(self, prefix):\n",
    "        node = self.root\n",
    "        for char in prefix:\n",
    "            if char not in node.children:\n",
    "                return False\n",
    "            node = node.children[char]\n",
    "        return True\n",
    "\n",
    "\n",
    "def noPrefix(words):\n",
    "    trie = Trie()\n",
    "    for word in words: # O(m)\n",
    "        # Check prefixes of the current word\n",
    "        if trie.starts_with(word): # O(m)\n",
    "            print('BAD SET')\n",
    "            print(word)\n",
    "            return\n",
    "        \n",
    "        for i in range(1, len(word) + 1): # O(m)\n",
    "            prefix = word[:i]\n",
    "            if trie.search(prefix): # O(n)\n",
    "                print('BAD SET')\n",
    "                print(word) \n",
    "                return\n",
    "        # Insert the current word into the trie\n",
    "        trie.insert(word) # O(m)\n",
    "\n",
    "    print('GOOD SET')\n",
    "\n",
    "if __name__ == '__main__':\n",
    "    # example input\n",
    "    # 4\n",
    "    # aab\n",
    "    # aac\n",
    "    # aacghgh\n",
    "    # aabghgh\n",
    "    n = int(input().strip())\n",
    "    words = []\n",
    "\n",
    "    for _ in range(n):\n",
    "        words_item = input()\n",
    "        words.append(words_item)\n",
    "\n",
    "    noPrefix(words)\n"
   ]
  },
  {
   "cell_type": "markdown",
   "metadata": {},
   "source": [
    " # Time and Space Complexity\n",
    "\n",
    "**Time Complexity:**\n",
    "\n",
    "1. **Insert Operation**: The `insert` method still takes $ O(m) $ time where $ m $ is the length of the word, since we iterate over each character of the word and potentially add a node in the trie for each character.\n",
    "\n",
    "2. **Search Operation**: Similarly, the `search` method has a time complexity of $ O(m) $, because we iterate over each character in the word and traverse the trie accordingly.\n",
    "\n",
    "3. **Starts_with Operation**: The `starts_with` method also has a time complexity of $ O(m) $, since it iterates over each character in the prefix.\n",
    "\n",
    "Considering these operations, the loop inside the `noPrefix` function that checks for each prefix using `search` will have a time complexity of $ O(m^2) $ for each word because it checks all possible prefixes of the word (which is a sum of series from 1 to $ m $).\n",
    "\n",
    "With $ n $ being the number of words and $ m $ being the length of the longest word, the overall time complexity for the `noPrefix` function would be $ O(n \\times m^2) $. This is because for each word, it checks all possible prefixes using the `search` method.\n",
    "\n",
    "**Space Complexity:**\n",
    "\n",
    "The space complexity of the trie is determined by the number of trie nodes created, which depends on the total number of characters across all words and the number of unique paths (which correspond to unique prefixes). In the worst case, every word is unique and does not share prefixes with any other word, leading to a space complexity of $ O(\\alpha \\times n \\times m) $, where $ \\alpha $ is the size of the character set (assuming the trie does not use compression and stores all characters explicitly).\n",
    "\n",
    "In practice, because words often share common prefixes, the space complexity might be much less since the trie allows for prefix sharing. However, for the purpose of Big O notation which focuses on the upper bound, we consider the worst-case scenario. \n",
    "\n",
    "Thus, the space complexity is $ O(\\alpha \\times n \\times m) $."
   ]
  },
  {
   "cell_type": "markdown",
   "metadata": {},
   "source": [
    "#### Naiive approach"
   ]
  },
  {
   "cell_type": "code",
   "execution_count": 22,
   "metadata": {},
   "outputs": [
    {
     "name": "stdout",
     "output_type": "stream",
     "text": [
      "BAD SET\n",
      "aacghgh\n"
     ]
    }
   ],
   "source": [
    "def noPrefix(words):\n",
    "    # Create an empty set to store prefixes\n",
    "    prefixes = set()\n",
    "    \n",
    "    for word in words:\n",
    "        # Check if the current word is a prefix of any previous word\n",
    "        for i in range(1, len(word) + 1):\n",
    "            prefix = word[:i]\n",
    "            if prefix in prefixes:\n",
    "                print('BAD SET')\n",
    "                print(word)\n",
    "                return\n",
    "        prefixes.add(word)  # Add the current word to the set of prefixes\n",
    "    \n",
    "    print('GOOD SET')\n",
    "\n",
    "if __name__ == '__main__':\n",
    "    words = [\"aab\", \"aac\", \"aacghgh\", \"aabghgh\"]  # Bad SET\n",
    "    # words = [\"ab\", \"bc\", \"cd\"]  # Good SET\n",
    "    noPrefix(words)\n"
   ]
  }
 ],
 "metadata": {
  "kernelspec": {
   "display_name": "tf2",
   "language": "python",
   "name": "python3"
  },
  "language_info": {
   "codemirror_mode": {
    "name": "ipython",
    "version": 3
   },
   "file_extension": ".py",
   "mimetype": "text/x-python",
   "name": "python",
   "nbconvert_exporter": "python",
   "pygments_lexer": "ipython3",
   "version": "3.9.13"
  }
 },
 "nbformat": 4,
 "nbformat_minor": 2
}
