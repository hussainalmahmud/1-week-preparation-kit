{
 "cells": [
  {
   "cell_type": "markdown",
   "metadata": {},
   "source": [
    "<a href=\"https://colab.research.google.com/github/hussainsan/1-week-preparation-kit/blob/main/Day_7/TreePreorderTraversal.ipynb\">\n",
    "  <img src=\"https://colab.research.google.com/assets/colab-badge.svg\" alt=\"Open In Colab\"/>\n",
    "</a>"
   ]
  },
  {
   "cell_type": "code",
   "execution_count": 3,
   "metadata": {},
   "outputs": [
    {
     "name": "stdout",
     "output_type": "stream",
     "text": [
      "1 2 5 3 4 6\n"
     ]
    }
   ],
   "source": [
    "class Node:\n",
    "    def __init__(self, info): \n",
    "        self.info = info  \n",
    "        self.left = None  \n",
    "        self.right = None \n",
    "        self.level = None \n",
    "\n",
    "    def __str__(self):\n",
    "        return str(self.info) \n",
    "\n",
    "class BinarySearchTree:\n",
    "    def __init__(self): \n",
    "        self.root = None\n",
    "\n",
    "    def create(self, val):  \n",
    "        if self.root == None:\n",
    "            self.root = Node(val)\n",
    "        else:\n",
    "            current = self.root\n",
    "         \n",
    "            while True:\n",
    "                if val < current.info:\n",
    "                    if current.left:\n",
    "                        current = current.left\n",
    "                    else:\n",
    "                        current.left = Node(val)\n",
    "                        break\n",
    "                elif val > current.info:\n",
    "                    if current.right:\n",
    "                        current = current.right\n",
    "                    else:\n",
    "                        current.right = Node(val)\n",
    "                        break\n",
    "                else:\n",
    "                    break\n",
    "\n",
    "\"\"\"\n",
    "Node is defined as\n",
    "self.left (the left child of the node)\n",
    "self.right (the right child of the node)\n",
    "self.info (the value of the node)\n",
    "\"\"\"\n",
    "def preOrder(root, result=None, isRoot=True):\n",
    "    if result is None:\n",
    "        result = []\n",
    "    \n",
    "    if root:\n",
    "        # print(root.info)               # Visit the root\n",
    "        result.append(root.info) \n",
    "        preOrder(root.left, result, False)  # Recursively visit the left subtree\n",
    "        preOrder(root.right, result, False) # Recursively visit the right subtree\n",
    "    \n",
    "    if isRoot:\n",
    "        print(' '.join(map(str, result)))\n",
    "        \n",
    "tree = BinarySearchTree()\n",
    "inpt = [1, 2, 5, 3, 6, 4]\n",
    "for i in range(len(inpt)):\n",
    "    tree.create(inpt[i])\n",
    "\n",
    "preOrder(tree.root)"
   ]
  },
  {
   "cell_type": "markdown",
   "metadata": {},
   "source": [
    " # Time and Space Complexity\n",
    "\n",
    "### Time Complexity:\n",
    "\n",
    "The `preOrder` function visits each node in the tree exactly once. Therefore, the time complexity is proportional to the number of nodes in the tree.\n",
    "\n",
    "**Time Complexity: \\(O(n)\\)**\n",
    "\n",
    "Where \\(n\\) is the number of nodes in the tree.\n",
    "\n",
    "### Space Complexity:\n",
    "\n",
    "1. **Recursive Call Stack**: In the worst case (a skewed tree), the function might recurse up to \\(n\\) times, where \\(n\\) is the number of nodes in the tree. This would mean a call stack depth of \\(n\\). In the best case (a balanced tree), the depth would be \\(\\log n\\).\n",
    "\n",
    "2. **Result List**: The result list will store \\(n\\) elements, one for each node in the tree.\n",
    "\n",
    "Considering both the recursive call stack and the result list, the space complexity in the worst case is dominated by the recursive call stack.\n",
    "\n",
    "**Space Complexity: \\(O(n)\\)**\n",
    "\n",
    "In the case of a balanced tree, the space complexity for the call stack would be \\(O(\\log n)\\), but since you're storing all \\(n\\) nodes in the result list, the overall space complexity remains \\(O(n)\\)."
   ]
  }
 ],
 "metadata": {
  "kernelspec": {
   "display_name": "tf2",
   "language": "python",
   "name": "python3"
  },
  "language_info": {
   "codemirror_mode": {
    "name": "ipython",
    "version": 3
   },
   "file_extension": ".py",
   "mimetype": "text/x-python",
   "name": "python",
   "nbconvert_exporter": "python",
   "pygments_lexer": "ipython3",
   "version": "3.9.13"
  }
 },
 "nbformat": 4,
 "nbformat_minor": 2
}
